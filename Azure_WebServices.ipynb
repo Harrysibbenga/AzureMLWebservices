{
 "cells": [
  {
   "cell_type": "code",
   "execution_count": 1,
   "source": [
    "import urllib\n",
    "# If you are using Python 3+, import urllib instead of urllib2\n",
    "\n",
    "import json"
   ],
   "outputs": [],
   "metadata": {}
  },
  {
   "cell_type": "code",
   "execution_count": 5,
   "source": [
    "data =  {\n",
    "\n",
    "        \"Inputs\": {\n",
    "\n",
    "                \"input1\":\n",
    "                {\n",
    "                    \"ColumnNames\": [\"Title\", \"Category\", \"Text\"],\n",
    "                    \"Values\": [ [ \"Apple Inc.\", \"Information Technology\", \"Steve Jobs\" ] ]\n",
    "                },        },\n",
    "            \"GlobalParameters\": {\n",
    "}\n",
    "    }\n",
    "\n",
    "body = str.encode(json.dumps(data))\n",
    "\n",
    "url = 'https://ussouthcentral.services.azureml.net/workspaces/c9d7eac74b9a4725b5df30db5490a2d2/services/63495b1b518146e39443524a6cb61a6e/execute?api-version=2.0&details=true'\n",
    "api_key = '' # Replace this with the API key for the web service\n",
    "headers = {'Content-Type':'application/json', 'Authorization':('Bearer '+ api_key)}\n",
    "\n",
    "req = urllib.request.Request(url, body, headers) \n",
    "\n",
    "try:\n",
    "    response = urllib.request.urlopen(req)\n",
    "\n",
    "    # If you are using Python 3+, replace urllib2 with urllib.request in the above code:\n",
    "    # req = urllib.request.Request(url, body, headers) \n",
    "    # response = urllib.request.urlopen(req)\n",
    "\n",
    "    result = response.read()\n",
    "    print(result) \n",
    "except urllib.error.HTTPError as error:\n",
    "    print(\"The request failed with status code: \" + str(error.code))\n",
    "\n",
    "    # Print the headers - they include the requert ID and the timestamp, which are useful for debugging the failure\n",
    "    print(error.info())\n",
    "\n",
    "    print(json.loads(error.read()))                 "
   ],
   "outputs": [
    {
     "output_type": "stream",
     "name": "stdout",
     "text": [
      "The request failed with status code: 400\n",
      "Content-Length: 350\n",
      "Content-Type: application/json; charset=utf-8\n",
      "ETag: \"2739be1f556c4200a60ab89d5d3ca7c5\"\n",
      "Server: Microsoft-HTTPAPI/2.0\n",
      "x-ms-request-id: 7061fd88-5b90-42dc-bb93-20841dcc917a\n",
      "Date: Thu, 19 Aug 2021 19:23:18 GMT\n",
      "Connection: close\n",
      "\n",
      "\n",
      "{'error': {'code': 'LibraryExecutionError', 'message': 'Module execution encountered an internal library error.', 'details': [{'code': 'FailedToEvaluateRScript', 'target': 'Execute R Script Piped (RPackage)', 'message': 'The following error occurred during evaluation of R script: R_tryEval: return error: Error in pca$x[, 1:10] : subscript out of bounds\\n'}]}}\n"
     ]
    }
   ],
   "metadata": {}
  },
  {
   "cell_type": "code",
   "execution_count": 6,
   "source": [
    "data =  {\n",
    "\n",
    "        \"Inputs\": {\n",
    "\n",
    "                \"input1\":\n",
    "                {\n",
    "                    \"ColumnNames\": [\"Date\", \"Day\", \"Temperature\", \"Rainfall\", \"Flyers\", \"Price\"],\n",
    "                    \"Values\": [ [ \"14/08/2021\", \"Saturday\", \"43\", \"0.8\", \"10\", \"0.5\" ] ]\n",
    "                },        },\n",
    "            \"GlobalParameters\": {\n",
    "}\n",
    "    }\n",
    "\n",
    "body = str.encode(json.dumps(data))\n",
    "\n",
    "url = 'https://ussouthcentral.services.azureml.net/workspaces/c9d7eac74b9a4725b5df30db5490a2d2/services/3f35242f580c44b9b3b0efac97ff6f68/execute?api-version=2.0&details=true'\n",
    "api_key = '' # Replace this with the API key for the web service\n",
    "headers = {'Content-Type':'application/json', 'Authorization':('Bearer '+ api_key)}\n",
    "\n",
    "req = urllib.request.Request(url, body, headers) \n",
    "\n",
    "try:\n",
    "    response = urllib.request.urlopen(req)\n",
    "\n",
    "    # If you are using Python 3+, replace urllib2 with urllib.request in the above code:\n",
    "    # req = urllib.request.Request(url, body, headers) \n",
    "    # response = urllib.request.urlopen(req)\n",
    "\n",
    "    result = response.read()\n",
    "    print(result) \n",
    "except urllib.error.HTTPError as error:\n",
    "    print(\"The request failed with status code: \" + str(error.code))\n",
    "\n",
    "    # Print the headers - they include the requert ID and the timestamp, which are useful for debugging the failure\n",
    "    print(error.info())\n",
    "\n",
    "    print(json.loads(error.read()))                 "
   ],
   "outputs": [
    {
     "output_type": "stream",
     "name": "stdout",
     "text": [
      "The request failed with status code: 400\n",
      "Content-Length: 316\n",
      "Content-Type: application/json; charset=utf-8\n",
      "ETag: \"63189390651947609a57eca25984bb6d\"\n",
      "Server: Microsoft-HTTPAPI/2.0\n",
      "x-ms-request-id: 5d37c22e-d8c2-42a2-a070-6caa475365fa\n",
      "Date: Thu, 19 Aug 2021 19:23:28 GMT\n",
      "Connection: close\n",
      "\n",
      "\n",
      "{'error': {'code': 'BadArgument', 'message': 'Invalid argument provided.', 'details': [{'code': 'InputParseError', 'target': 'input1', 'message': 'Parsing of input vector failed.  Verify the input vector has the correct number of columns and data types.  Additional details: String was not recognized as a valid DateTime..'}]}}\n"
     ]
    }
   ],
   "metadata": {}
  },
  {
   "cell_type": "code",
   "execution_count": null,
   "source": [],
   "outputs": [],
   "metadata": {}
  }
 ],
 "metadata": {
  "kernelspec": {
   "name": "python3",
   "display_name": "Python 3.7.10 64-bit ('ai_course': conda)"
  },
  "language_info": {
   "codemirror_mode": {
    "name": "ipython",
    "version": 3
   },
   "file_extension": ".py",
   "mimetype": "text/x-python",
   "name": "python",
   "nbconvert_exporter": "python",
   "pygments_lexer": "ipython3",
   "version": "3.7.10"
  },
  "interpreter": {
   "hash": "c88732d8ccb95fe57996e92df0e2d77e5186ead1c6a1aec7deef8910a87321ea"
  }
 },
 "nbformat": 4,
 "nbformat_minor": 5
}